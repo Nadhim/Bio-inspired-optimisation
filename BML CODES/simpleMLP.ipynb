{
 "cells": [
  {
   "cell_type": "code",
   "execution_count": 1,
   "metadata": {},
   "outputs": [],
   "source": [
    "import math\n",
    "import random"
   ]
  },
  {
   "cell_type": "code",
   "execution_count": 2,
   "metadata": {},
   "outputs": [],
   "source": [
    "def sigmoid(x):\n",
    "    return 1 / (1 + math.exp(-x))"
   ]
  },
  {
   "cell_type": "code",
   "execution_count": 3,
   "metadata": {},
   "outputs": [],
   "source": [
    "def sigmoid_derivative(x):\n",
    "    return x * (1 - x)"
   ]
  },
  {
   "cell_type": "code",
   "execution_count": 4,
   "metadata": {},
   "outputs": [],
   "source": [
    "def initialize_weights(input_size, hidden_size, output_size):\n",
    "    weights_input_hidden = [[random.uniform(-1, 1) for _ in range(hidden_size)] for _ in range(input_size)]\n",
    "    weights_hidden_output = [random.uniform(-1, 1) for _ in range(hidden_size)]\n",
    "    return weights_input_hidden, weights_hidden_output"
   ]
  },
  {
   "cell_type": "code",
   "execution_count": 5,
   "metadata": {},
   "outputs": [],
   "source": [
    "input_size = 2\n",
    "hidden_size = 3  # You can adjust the number of hidden nodes\n",
    "output_size = 1\n",
    "\n",
    "# Initialize weights\n",
    "weights_input_hidden, weights_hidden_output = initialize_weights(input_size, hidden_size, output_size)"
   ]
  },
  {
   "cell_type": "code",
   "execution_count": 6,
   "metadata": {},
   "outputs": [],
   "source": [
    "inputs = [0.5, -0.2]\n",
    "hidden_layer = []\n",
    "for j in range(hidden_size):\n",
    "    activation = 0\n",
    "    for i in range(input_size):\n",
    "        activation += inputs[i] * weights_input_hidden[i][j]\n",
    "    hidden_layer.append(sigmoid(activation))\n"
   ]
  },
  {
   "cell_type": "code",
   "execution_count": 7,
   "metadata": {},
   "outputs": [
    {
     "name": "stdout",
     "output_type": "stream",
     "text": [
      "Output: 0.46638642048347545\n"
     ]
    }
   ],
   "source": [
    "output_layer = 0\n",
    "for j in range(hidden_size):\n",
    "    output_layer += hidden_layer[j] * weights_hidden_output[j]\n",
    "output_layer = sigmoid(output_layer)\n",
    "\n",
    "print(\"Output:\", output_layer)"
   ]
  }
 ],
 "metadata": {
  "kernelspec": {
   "display_name": "Python 3",
   "language": "python",
   "name": "python3"
  },
  "language_info": {
   "codemirror_mode": {
    "name": "ipython",
    "version": 3
   },
   "file_extension": ".py",
   "mimetype": "text/x-python",
   "name": "python",
   "nbconvert_exporter": "python",
   "pygments_lexer": "ipython3",
   "version": "3.9.6"
  }
 },
 "nbformat": 4,
 "nbformat_minor": 2
}
