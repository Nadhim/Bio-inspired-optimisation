{
 "cells": [
  {
   "cell_type": "code",
   "execution_count": 1,
   "metadata": {},
   "outputs": [],
   "source": [
    "#NAME: MANNEMELA SAI SRITHAJA\n",
    "#REGISTER NUMBER:31 2221 5002 056\n",
    "#DEPARTMENT: IT-A\n",
    "#ASSIGNMENT PROBLEM : TEACHING AND LEARNING ALGORITHM "
   ]
  },
  {
   "cell_type": "code",
   "execution_count": 2,
   "metadata": {},
   "outputs": [],
   "source": [
    "import numpy as np   "
   ]
  },
  {
   "cell_type": "code",
   "execution_count": 3,
   "metadata": {},
   "outputs": [],
   "source": [
    "def griewank(x):\n",
    "    D = len(x)\n",
    "    sum_sq = np.sum(x**2)     #function to find the fitness value\n",
    "    prod_cos = np.prod(np.cos(x / np.sqrt(np.arange(1, D+1))))\n",
    "    return 1 + (1/4000)*sum_sq - prod_cos"
   ]
  },
  {
   "cell_type": "code",
   "execution_count": 4,
   "metadata": {},
   "outputs": [],
   "source": [
    "def initialize_population(population_size, problem_size, lower_bound, upper_bound):  #generating a random population\n",
    "    return np.random.uniform(lower_bound, upper_bound, (population_size, problem_size))"
   ]
  },
  {
   "cell_type": "code",
   "execution_count": 5,
   "metadata": {},
   "outputs": [],
   "source": [
    "def generate_random_pairs(population_size):\n",
    "    return np.random.randint(0, population_size, population_size) #generation random learner-influencer pairs"
   ]
  },
  {
   "cell_type": "code",
   "execution_count": 6,
   "metadata": {},
   "outputs": [],
   "source": [
    "def learner_phase(population, pairs, r):\n",
    "    for p, q in enumerate(pairs):\n",
    "        for j in range(population.shape[1]):        #learner phase\n",
    "            old_value_p = population[p, j]\n",
    "            old_value_q = population[q, j]          #updating the value impacted by the peer\n",
    "            diff = r * (old_value_p - old_value_q)\n",
    "            population[p, j] = old_value_p + diff"
   ]
  },
  {
   "cell_type": "code",
   "execution_count": 7,
   "metadata": {},
   "outputs": [],
   "source": [
    "population_size = 6\n",
    "problem_size = 5        #initializing parameters for number of subjects and learners\n",
    "lower_bound = -600      #initializing lower bound and upper bound values \n",
    "upper_bound = 600\n",
    "max_iter = 10000        #number of iterations teh function will run "
   ]
  },
  {
   "cell_type": "code",
   "execution_count": 8,
   "metadata": {},
   "outputs": [
    {
     "name": "stdout",
     "output_type": "stream",
     "text": [
      "The initial population: [[-282.53708986 -339.30721587 -390.67992675 -556.44721993 -317.61959001]\n",
      " [-357.22388215 -580.87791888   97.35366034 -332.21599409  113.69791461]\n",
      " [ 286.92301564  419.26974476 -239.26854115   97.43151527  434.58887328]\n",
      " [-530.97209859  155.83566259  475.75315916 -591.35535302  323.52626293]\n",
      " [-251.32619371  -12.10994034  290.82662496 -148.60208639  284.56611512]\n",
      " [-292.65662308   15.12999136  380.63785253 -585.61380349  -99.80431084]]\n",
      "The fitness value of initial population: [190.47923222 150.14455537 129.4343293  247.92075776  63.73936563\n",
      " 147.079745  ]\n"
     ]
    }
   ],
   "source": [
    "population = initialize_population(population_size, problem_size, lower_bound, upper_bound)\n",
    "fitness_values = np.array([griewank(individual) for individual in population])  #finding fitness values for each learner\n",
    "print(\"The initial population:\",population)  \n",
    "print(\"The fitness value of initial population:\",fitness_values)"
   ]
  },
  {
   "cell_type": "code",
   "execution_count": 9,
   "metadata": {},
   "outputs": [
    {
     "name": "stdout",
     "output_type": "stream",
     "text": [
      "63.73936563186711\n"
     ]
    }
   ],
   "source": [
    "best_solution = None\n",
    "best_fitness = np.inf                       #finding best solution and best fitness value\n",
    "min_index = np.argmin(fitness_values)\n",
    "if fitness_values[min_index] < best_fitness:\n",
    "    best_solution = population[min_index]\n",
    "    best_fitness = fitness_values[min_index]\n",
    "print(best_fitness)"
   ]
  },
  {
   "cell_type": "code",
   "execution_count": 10,
   "metadata": {},
   "outputs": [
    {
     "name": "stderr",
     "output_type": "stream",
     "text": [
      "c:\\Users\\nadhi\\AppData\\Local\\Programs\\Python\\Python311\\Lib\\site-packages\\numpy\\core\\fromnumeric.py:88: RuntimeWarning: overflow encountered in reduce\n",
      "  return ufunc.reduce(obj, axis, dtype, out, **passkwargs)\n",
      "C:\\Users\\nadhi\\AppData\\Local\\Temp\\ipykernel_9104\\2061203398.py:3: RuntimeWarning: overflow encountered in square\n",
      "  sum_sq = np.sum(x**2)     #function to find the fitness value\n",
      "C:\\Users\\nadhi\\AppData\\Local\\Temp\\ipykernel_9104\\2390327412.py:6: RuntimeWarning: overflow encountered in scalar subtract\n",
      "  diff = r * (old_value_p - old_value_q)\n",
      "C:\\Users\\nadhi\\AppData\\Local\\Temp\\ipykernel_9104\\2061203398.py:4: RuntimeWarning: invalid value encountered in cos\n",
      "  prod_cos = np.prod(np.cos(x / np.sqrt(np.arange(1, D+1))))\n",
      "C:\\Users\\nadhi\\AppData\\Local\\Temp\\ipykernel_9104\\3535123031.py:8: RuntimeWarning: invalid value encountered in multiply\n",
      "  diff_mean =(r_j_i*(best_solution-(Tf *subject_mean)))  #finding difference mean\n",
      "C:\\Users\\nadhi\\AppData\\Local\\Temp\\ipykernel_9104\\3535123031.py:10: RuntimeWarning: invalid value encountered in add\n",
      "  new_solution = population[i] + diff_mean        #using difference mean updating the population\n",
      "C:\\Users\\nadhi\\AppData\\Local\\Temp\\ipykernel_9104\\2390327412.py:6: RuntimeWarning: invalid value encountered in scalar subtract\n",
      "  diff = r * (old_value_p - old_value_q)\n",
      "c:\\Users\\nadhi\\AppData\\Local\\Programs\\Python\\Python311\\Lib\\site-packages\\numpy\\core\\_methods.py:118: RuntimeWarning: invalid value encountered in reduce\n",
      "  ret = umr_sum(arr, axis, dtype, out, keepdims, where=where)\n",
      "C:\\Users\\nadhi\\AppData\\Local\\Temp\\ipykernel_9104\\2390327412.py:7: RuntimeWarning: overflow encountered in scalar add\n",
      "  population[p, j] = old_value_p + diff\n",
      "c:\\Users\\nadhi\\AppData\\Local\\Programs\\Python\\Python311\\Lib\\site-packages\\numpy\\core\\_methods.py:118: RuntimeWarning: overflow encountered in reduce\n",
      "  ret = umr_sum(arr, axis, dtype, out, keepdims, where=where)\n"
     ]
    }
   ],
   "source": [
    "for i in range(10000):\n",
    "    subject_mean= np.mean(population, axis=0)  #taking mean for each subject\n",
    "    r_j_i=np.random.uniform(0, 1, (5))          #random number initialization\n",
    "\n",
    "    for i in range(population_size):\n",
    "        \n",
    "        Tf = round(1 + np.random.rand() * 2 - 1)\n",
    "        diff_mean =(r_j_i*(best_solution-(Tf *subject_mean)))  #finding difference mean\n",
    "        \n",
    "        new_solution = population[i] + diff_mean        #using difference mean updating the population\n",
    "        new_fitness = griewank(new_solution)            #finding fitness for new solution\n",
    "\n",
    "        if new_fitness < fitness_values[i]:         \n",
    "            population[i] = new_solution            #updating population only if fitness value is reduced\n",
    "            fitness_values[i] = new_fitness\n",
    "\n",
    "        if new_fitness < best_fitness:\n",
    "            best_solution = new_solution      #updating the best solution and fitness for new population\n",
    "            best_fitness = new_fitness\n",
    "    learner_influencer_pairs = generate_random_pairs(population_size)\n",
    "    r = np.random.rand()  # Random number for subject j\n",
    "    learner_phase(population, learner_influencer_pairs, r)"
   ]
  },
  {
   "cell_type": "code",
   "execution_count": 11,
   "metadata": {},
   "outputs": [
    {
     "name": "stdout",
     "output_type": "stream",
     "text": [
      "The updated fitness value: [146.5647405  140.43519033 129.4343293  247.92075776  63.73936563\n",
      " 147.02586902]\n",
      "The best fitness value after 10000 iterations: 63.73936563186711\n"
     ]
    }
   ],
   "source": [
    "print(\"The updated fitness value:\",fitness_values)   #the fitness values and best fitness after optimization using teaching&learning based optimization\n",
    "print(\"The best fitness value after 10000 iterations:\",best_fitness)"
   ]
  },
  {
   "cell_type": "code",
   "execution_count": null,
   "metadata": {},
   "outputs": [],
   "source": []
  }
 ],
 "metadata": {
  "kernelspec": {
   "display_name": "Python 3",
   "language": "python",
   "name": "python3"
  },
  "language_info": {
   "codemirror_mode": {
    "name": "ipython",
    "version": 3
   },
   "file_extension": ".py",
   "mimetype": "text/x-python",
   "name": "python",
   "nbconvert_exporter": "python",
   "pygments_lexer": "ipython3",
   "version": "3.11.4"
  }
 },
 "nbformat": 4,
 "nbformat_minor": 2
}
