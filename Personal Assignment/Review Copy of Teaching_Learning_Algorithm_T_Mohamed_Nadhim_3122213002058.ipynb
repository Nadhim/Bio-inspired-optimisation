{
  "cells": [
    {
      "cell_type": "markdown",
      "metadata": {
        "id": "bVJOZS1rEdLL"
      },
      "source": [
        "# Student Details\n"
      ]
    },
    {
      "cell_type": "code",
      "execution_count": 504,
      "metadata": {
        "id": "VXQXAAc8EdLM"
      },
      "outputs": [],
      "source": [
        "# NAME: T. MOHAMED NADHIM\n",
        "# REG. NO: 3122 21 3002 058\n",
        "# YEAR & DEPT: 3RD YEAR / ECE - A\n",
        "# ASSIGNMENT: IMPLEMENTATION OF TEACHING AND LEARNING ALGORITHM"
      ]
    },
    {
      "cell_type": "code",
      "execution_count": 505,
      "metadata": {
        "colab": {
          "base_uri": "https://localhost:8080/",
          "height": 36
        },
        "id": "VU-L7m1NEdLN",
        "outputId": "f96a2e57-bb4f-4b15-f9c0-7426de4b4cc9"
      },
      "outputs": [
        {
          "data": {
            "text/plain": [
              "'\\n    Teaching\\n    |\\n    v\\n\\n    Learning\\n    |\\n    v\\n\\n    Repeat\\n\\n'"
            ]
          },
          "execution_count": 505,
          "metadata": {},
          "output_type": "execute_result"
        }
      ],
      "source": [
        "#Architecture:\n",
        "\n",
        "'''\n",
        "    Teaching\n",
        "    |\n",
        "    v\n",
        "\n",
        "    Learning\n",
        "    |\n",
        "    v\n",
        "\n",
        "    Repeat\n",
        "\n",
        "'''"
      ]
    },
    {
      "cell_type": "markdown",
      "metadata": {
        "id": "Sf-TCWdyEdLN"
      },
      "source": [
        "# Installing Libraries"
      ]
    },
    {
      "cell_type": "code",
      "execution_count": 506,
      "metadata": {
        "id": "C-IHCkirEdLN"
      },
      "outputs": [],
      "source": [
        "# !pip install matplotlib"
      ]
    },
    {
      "cell_type": "markdown",
      "metadata": {
        "id": "mDY00aiuEdLO"
      },
      "source": [
        "# Importing Libraries"
      ]
    },
    {
      "cell_type": "code",
      "execution_count": 507,
      "metadata": {
        "id": "BobVvPm8EdLO"
      },
      "outputs": [],
      "source": [
        "import math, random\n",
        "import matplotlib.pyplot as plt"
      ]
    },
    {
      "cell_type": "markdown",
      "metadata": {
        "id": "6v4ReoJKEdLO"
      },
      "source": [
        "# Defining functions for Griewank Fn, Generating population etc.."
      ]
    },
    {
      "cell_type": "code",
      "execution_count": 508,
      "metadata": {
        "id": "IfmH2xj_EdLO"
      },
      "outputs": [],
      "source": [
        "#Function to calculate the Griewank Function value for a given list\n",
        "def griewank(x):\n",
        "\n",
        "    l= len(x)\n",
        "    sum_val = 0\n",
        "    cos_prod = 1\n",
        "    griewank_value = 0\n",
        "\n",
        "    for i in range(l):\n",
        "        sum_val += ((x[i]**2)/4000)\n",
        "        cos_prod *=  math.cos(x[i]/math.sqrt(i+1))\n",
        "\n",
        "    griewank_value = 1 + sum_val - cos_prod\n",
        "\n",
        "    return griewank_value\n"
      ]
    },
    {
      "cell_type": "code",
      "execution_count": 509,
      "metadata": {
        "id": "akdOcQquEdLO"
      },
      "outputs": [],
      "source": [
        "#Generates a random population set based on the learner and subject length\n",
        "def population_generator(learners, subjects, lower_bound, upper_bound):\n",
        "\n",
        "    population = []\n",
        "\n",
        "    for i in range(learners):\n",
        "        learner = []\n",
        "        for i in range(subjects):\n",
        "            learner.append(round(random.uniform(lower_bound,upper_bound),4))\n",
        "        population.append(learner)\n",
        "\n",
        "    return population\n"
      ]
    },
    {
      "cell_type": "code",
      "execution_count": 510,
      "metadata": {
        "id": "_nVrNpS7EdLO"
      },
      "outputs": [],
      "source": [
        "#Calculates the mean value of each subject, given a population\n",
        "def mean_of_subjects(population):\n",
        "\n",
        "    mean_sub = []\n",
        "\n",
        "    for i in range(subjects):\n",
        "        mean = []\n",
        "        for j in range(learners):\n",
        "            mean.append(population[j][i])\n",
        "\n",
        "        mean_sub.append(round(sum(mean)/len(mean),2))\n",
        "\n",
        "    return mean_sub\n"
      ]
    },
    {
      "cell_type": "code",
      "execution_count": 511,
      "metadata": {
        "id": "LMIda1_aEdLO"
      },
      "outputs": [],
      "source": [
        "#Calculates the objective function values, given a population\n",
        "def obj_fn_val(population_data):\n",
        "\n",
        "    obj_val = []\n",
        "\n",
        "    for i in population_data:\n",
        "        obj_val.append(round(griewank(i),4))\n",
        "\n",
        "    return obj_val\n"
      ]
    },
    {
      "cell_type": "code",
      "execution_count": 512,
      "metadata": {
        "id": "qz-Y_O6cEdLO"
      },
      "outputs": [],
      "source": [
        "#Generates random pairs for learners\n",
        "def generate_pair(learners):\n",
        "\n",
        "    pairs = []\n",
        "\n",
        "    for i in range(learners):\n",
        "        pairs.append(random.choice([i+1 for i in range(learners)]))\n",
        "\n",
        "    return pairs"
      ]
    },
    {
      "cell_type": "markdown",
      "metadata": {
        "id": "VVQg4ONVEdLP"
      },
      "source": [
        "# Teaching Phase Function"
      ]
    },
    {
      "cell_type": "code",
      "execution_count": 513,
      "metadata": {
        "id": "A1NGG8CqEdLP"
      },
      "outputs": [],
      "source": [
        "#Teaching Phase\n",
        "def teaching_phase(population, teacher_index):\n",
        "\n",
        "    teaching_factor = round(1+ random.random()*2 -1) #Teaching Factor\n",
        "\n",
        "    mean_subjects = mean_of_subjects(population) #Finding mean value for each subject\n",
        "\n",
        "    random_num_teacher = [round(random.uniform(0,1),2) for i in range(subjects)] #Generating a random number for each subject\n",
        "\n",
        "    diff_mean = []\n",
        "\n",
        "    for i in range(subjects):\n",
        "        diff = random_num_teacher[i]*(population[teacher_index][i] - (teaching_factor*mean_subjects[i])) # Finding Difference_mean\n",
        "        diff_mean.append(round(diff,4))\n",
        "\n",
        "    updated_population = population_generator(learners,subjects,lower_bound,upper_bound)\n",
        "\n",
        "\n",
        "    #Updating the population by adding Diff_mean values\n",
        "    for i in range(subjects):\n",
        "        for j in range(learners):\n",
        "            updated_population[j][i]= population[j][i] + diff_mean[i]\n",
        "            updated_population[j][i] =  round(updated_population[j][i],4)\n",
        "\n",
        "\n",
        "    #Finding the objective function values after updating population\n",
        "    obj_fn_updated = obj_fn_val(updated_population)\n",
        "\n",
        "    return updated_population, obj_fn_updated\n"
      ]
    },
    {
      "cell_type": "markdown",
      "metadata": {
        "id": "Uv8wL7B4EdLP"
      },
      "source": [
        "# Learning Phase Function"
      ]
    },
    {
      "cell_type": "code",
      "execution_count": 514,
      "metadata": {
        "id": "qJZn3z91EdLP"
      },
      "outputs": [],
      "source": [
        "#Learning Phase\n",
        "def learning_phase(updated_population, obj_fn_updated):\n",
        "\n",
        "    learner_updated_population = population_generator(learners,subjects,lower_bound,upper_bound) # type: ignore\n",
        "\n",
        "    pair = generate_pair(learners) # type: ignore #Generating a learners pair for each learner\n",
        "    random_num_learner = [round(random.uniform(0,1),2) for i in range(subjects)] #Generating a random number for each subject\n",
        "\n",
        "\n",
        "    #Updating the population based on learner-learner interaction\n",
        "    for i in range(learners):\n",
        "        for j in range(subjects):\n",
        "            learner_updated_population[i][j] = updated_population[i][j] + (random_num_learner[j]*(updated_population[pair[i]-1][j] - updated_population[i][j]))\n",
        "            learner_updated_population[i][j] =  round(learner_updated_population[i][j],4)\n",
        "\n",
        "\n",
        "\n",
        "    #Finding the objective function values after updating population\n",
        "    obj_fn_learner = obj_fn_val(learner_updated_population)\n",
        "\n",
        "\n",
        "    #Finding the index of the learner with the biggest reduce in objective function after updating the population\n",
        "    new_teacher = int()\n",
        "    ruff = []\n",
        "    for i in range(len(objective_fn_values)):\n",
        "        ruff.append(obj_fn_learner[i]-obj_fn_updated[i])\n",
        "    new_teacher = ruff.index(min(ruff))\n",
        "\n",
        "    return learner_updated_population, new_teacher, obj_fn_learner\n",
        "\n"
      ]
    },
    {
      "cell_type": "markdown",
      "metadata": {
        "id": "PJa1-i_uEdLP"
      },
      "source": [
        "# Application of Teaching and Learning Phases"
      ]
    },
    {
      "cell_type": "code",
      "execution_count": 515,
      "metadata": {
        "colab": {
          "base_uri": "https://localhost:8080/"
        },
        "id": "iPDjI1RBEdLP",
        "outputId": "7c5f6ba8-a87d-4b67-940d-07e0bbf19745"
      },
      "outputs": [
        {
          "name": "stdout",
          "output_type": "stream",
          "text": [
            "Original Population: \n",
            "[482.6192, 188.7799]\n",
            "[-253.6676, 533.9587]\n",
            "[599.0327, 194.7053]\n",
            "\n",
            "Original Objective function values:\n",
            "[68.1285, 88.9487, 100.6392]\n",
            "\n",
            "\n",
            "\n",
            "Updated Population after teaching phase for Iteration 0\n",
            "Learner 1 [546.6743, 115.0509]\n",
            "Learner 2 [-189.6125, 460.2297]\n",
            "Learner 3 [663.0878, 120.9763]\n",
            "Objective Function:\n",
            "[78.0764, 62.8213, 113.8453]\n",
            "\n",
            "Updated Population after teaching phase for Iteration 1\n",
            "Learner 1 [558.7917, 119.7095]\n",
            "Learner 2 [163.585, 237.5885]\n",
            "Learner 3 [628.6398, 121.6649]\n",
            "Objective Function:\n",
            "[83.5469, 21.8749, 103.8351]\n",
            "\n",
            "Updated Population after teaching phase for Iteration 2\n",
            "Learner 1 [340.1074, 132.2485]\n",
            "Learner 2 [340.1074, 185.294]\n",
            "Learner 3 [-55.0993, 197.9619]\n",
            "Objective Function:\n",
            "[33.7816, 38.0887, 11.5778]\n",
            "\n",
            "Updated Population after teaching phase for Iteration 3\n",
            "Learner 1 [334.7431, 13.8581]\n",
            "Learner 2 [334.7431, 66.9036]\n",
            "Learner 3 [-60.4636, 79.5715]\n",
            "Objective Function:\n",
            "[28.9098, 29.9723, 4.184]\n",
            "\n",
            "Updated Population after teaching phase for Iteration 4\n",
            "Learner 1 [292.3253, 52.0823]\n",
            "Learner 2 [-43.6004, 77.6711]\n",
            "Learner 3 [-102.8814, 81.7248]\n",
            "Objective Function:\n",
            "[23.6775, 3.0355, 5.5446]\n",
            "\n",
            "Updated Population after teaching phase for Iteration 5\n",
            "Learner 1 [421.0411, 46.218]\n",
            "Learner 2 [28.2056, 75.2119]\n",
            "Learner 3 [25.8344, 75.8605]\n",
            "Objective Function:\n",
            "[45.5527, 1.6404, 3.3484]\n",
            "\n",
            "Updated Population after teaching phase for Iteration 6\n",
            "Learner 1 [428.2573, 56.6676]\n",
            "Learner 2 [185.6003, 73.5081]\n",
            "Learner 3 [184.1302, 73.8908]\n",
            "Objective Function:\n",
            "[48.0411, 10.8257, 10.7046]\n",
            "\n",
            "Updated Population after teaching phase for Iteration 7\n",
            "Learner 1 [371.2676, 64.6861]\n",
            "Learner 2 [198.9812, 71.7591]\n",
            "Learner 3 [198.3637, 71.6978]\n",
            "Objective Function:\n",
            "[36.6634, 12.6196, 12.9423]\n",
            "\n",
            "Updated Population after teaching phase for Iteration 8\n",
            "Learner 1 [89.2954, 17.9127]\n",
            "Learner 2 [10.0437, 24.6321]\n",
            "Learner 3 [-83.2751, 24.9275]\n",
            "Objective Function:\n",
            "[2.8371, 1.2896, 2.8968]\n",
            "\n",
            "Updated Population after teaching phase for Iteration 9\n",
            "Learner 1 [169.883, 16.9515]\n",
            "Learner 2 [90.6313, 23.6709]\n",
            "Learner 3 [-2.6875, 23.9663]\n",
            "Objective Function:\n",
            "[7.4737, 2.7357, 0.8525]\n",
            "Updated Population after 200 iterations: \n",
            "[0.0533, -0.017]\n",
            "[0.0533, -0.017]\n",
            "[0.0533, -0.017]\n",
            "\n",
            "Updated Objective function values after 200 iterations: \n",
            "[0.0015, 0.0015, 0.0015]\n"
          ]
        }
      ],
      "source": [
        "learners = 3\n",
        "subjects = 2\n",
        "lower_bound = -600\n",
        "upper_bound = 600\n",
        "\n",
        "iterations = 200\n",
        "\n",
        "population = population_generator(learners,subjects, lower_bound, upper_bound) #Generating the population\n",
        "\n",
        "objective_fn_values = obj_fn_val(population) #Finding objective function values for the population\n",
        "\n",
        "teacher = min(objective_fn_values)\n",
        "teacher_index = objective_fn_values.index(teacher) #Finding the index of the objective function result with least value\n",
        "\n",
        "\n",
        "#Printing the original population and objective function values\n",
        "print('Original Population: ')\n",
        "for i in population:\n",
        "    print(i)\n",
        "\n",
        "print()\n",
        "\n",
        "print('Original Objective function values:')\n",
        "print(objective_fn_values)\n",
        "\n",
        "print()\n",
        "print()\n",
        "o_values_min = []\n",
        "o_values_max = []\n",
        "\n",
        "l1s1 = []\n",
        "l1s2=[]\n",
        "\n",
        "l2s1 = []\n",
        "l2s2=[]\n",
        "\n",
        "l3s1 = []\n",
        "l3s2=[]\n",
        "for i in range(iterations):\n",
        "\n",
        "    updated_population, updated_objective_fn = teaching_phase(population,teacher_index)\n",
        "    learner_updated_population, new_teacher, learner_updated_obj_fn = learning_phase(updated_population, updated_objective_fn)\n",
        "\n",
        "    population, teacher_index = learner_updated_population, new_teacher\n",
        "\n",
        "    #Updated Code for review\n",
        "    if i <10:\n",
        "      print()\n",
        "      print(f\"Updated Population after teaching phase for Iteration {i}\")\n",
        "      for j in range(len(updated_population)):\n",
        "        print(f'Learner {j+1}',updated_population[j])\n",
        "      print('Objective Function:')\n",
        "      print(updated_objective_fn)\n",
        "      #End of Updated Code\n",
        "\n",
        "\n",
        "    o_values_min.append(min(learner_updated_obj_fn)) #Finding the minimum value of the updated objective function for each iteration\n",
        "    o_values_max.append(max(learner_updated_obj_fn)) #Finding the minimum value of the updated objective function for each iteration\n",
        "\n",
        "    l1s1.append(updated_population[0][0])\n",
        "    l1s2.append(updated_population[0][1])\n",
        "\n",
        "    l2s1.append(updated_population[1][0])\n",
        "    l2s2.append(updated_population[1][1])\n",
        "\n",
        "    l3s1.append(updated_population[2][0])\n",
        "    l3s2.append(updated_population[2][1])\n",
        "\n",
        "\n",
        "\n",
        "#Printing the Updated population and objective function values\n",
        "print(f'Updated Population after {iterations} iterations: ')\n",
        "\n",
        "for i in population:\n",
        "    print(i)\n",
        "\n",
        "print()\n",
        "\n",
        "print(f'Updated Objective function values after {iterations} iterations: ')\n",
        "print(learner_updated_obj_fn)\n",
        "\n"
      ]
    },
    {
      "cell_type": "markdown",
      "metadata": {
        "id": "6RedYb3JEdLP"
      },
      "source": [
        "# Plotting graph - Obj Fn VS No. of Iterations"
      ]
    },
    {
      "cell_type": "code",
      "execution_count": 516,
      "metadata": {
        "colab": {
          "base_uri": "https://localhost:8080/",
          "height": 489
        },
        "id": "JlnMchTLEdLP",
        "outputId": "7ecb318e-7f33-487b-c6b7-d40aba8136e7"
      },
      "outputs": [
        {
          "data": {
            "text/plain": [
              "Text(0.5, 1.0, 'Learner Values Visualization')"
            ]
          },
          "execution_count": 516,
          "metadata": {},
          "output_type": "execute_result"
        },
        {
          "data": {
            "image/png": "[encoded data removed]",
            "text/plain": [
              "<Figure size 640x480 with 1 Axes>"
            ]
          },
          "metadata": {},
          "output_type": "display_data"
        }
      ],
      "source": [
        "x = [i for i in range(iterations)]\n",
        "\n",
        "\n",
        "#Generating a graph to find the difference between the obj fn values per each iteration\n",
        "plt.plot(x,o_values_min, label=\"Minimum Fitness\")\n",
        "plt.plot(x,o_values_max, label=\"Maximum Fitness\")\n",
        "plt.legend()\n",
        "plt.xlabel('Iterations')\n",
        "plt.ylabel('Minimum Obj Fn Value')\n",
        "\n",
        "plt.title('Learner Values Visualization')\n"
      ]
    },
    {
      "cell_type": "code",
      "execution_count": 517,
      "metadata": {},
      "outputs": [
        {
          "data": {
            "text/plain": [
              "Text(0.5, 1.0, 'Obj fn Values Vs. No. of Iterations')"
            ]
          },
          "execution_count": 517,
          "metadata": {},
          "output_type": "execute_result"
        },
        {
          "data": {
            "image/png": "[encoded data removed]",
            "text/plain": [
              "<Figure size 640x480 with 1 Axes>"
            ]
          },
          "metadata": {},
          "output_type": "display_data"
        }
      ],
      "source": [
        "plt.plot(l1s1,l1s2, label=\"Learner 1\")\n",
        "plt.plot(l2s1,l2s2, label=\"Learner 2\")\n",
        "plt.plot(l3s1,l3s2, label=\"Learner 3\")\n",
        "\n",
        "plt.legend()\n",
        "plt.xlabel('Subject 1 Values')\n",
        "plt.ylabel('Subject 2 values')\n",
        "\n",
        "plt.title('Obj fn Values Vs. No. of Iterations')"
      ]
    }
  ],
  "metadata": {
    "colab": {
      "provenance": []
    },
    "kernelspec": {
      "display_name": "Python 3.10.5 64-bit",
      "language": "python",
      "name": "python3"
    },
    "language_info": {
      "codemirror_mode": {
        "name": "ipython",
        "version": 3
      },
      "file_extension": ".py",
      "mimetype": "text/x-python",
      "name": "python",
      "nbconvert_exporter": "python",
      "pygments_lexer": "ipython3",
      "version": "3.11.4"
    },
    "orig_nbformat": 4,
    "vscode": {
      "interpreter": {
        "hash": "26de051ba29f2982a8de78e945f0abaf191376122a1563185a90213a26c5da77"
      }
    }
  },
  "nbformat": 4,
  "nbformat_minor": 0
}
