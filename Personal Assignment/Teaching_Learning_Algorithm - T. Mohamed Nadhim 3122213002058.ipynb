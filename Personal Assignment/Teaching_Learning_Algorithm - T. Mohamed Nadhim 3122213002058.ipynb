{
 "cells": [
  {
   "cell_type": "markdown",
   "metadata": {},
   "source": [
    "# Student Details\n"
   ]
  },
  {
   "cell_type": "code",
   "execution_count": 66,
   "metadata": {},
   "outputs": [],
   "source": [
    "# NAME: T. MOHAMED NADHIM\n",
    "# REG. NO: 3122 21 3002 058\n",
    "# YEAR & DEPT: 3RD YEAR / ECE - A\n",
    "# ASSIGNMENT: IMPLEMENTATION OF TEACHING AND LEARNING ALGORITHM"
   ]
  },
  {
   "cell_type": "code",
   "execution_count": 67,
   "metadata": {},
   "outputs": [
    {
     "data": {
      "text/plain": [
       "' \\n    Teaching\\n    |\\n    v\\n\\n    Learning\\n    |\\n    v\\n\\n    Repeat\\n\\n'"
      ]
     },
     "execution_count": 67,
     "metadata": {},
     "output_type": "execute_result"
    }
   ],
   "source": [
    "#Architecture: \n",
    "\n",
    "''' \n",
    "    Teaching\n",
    "    |\n",
    "    v\n",
    "\n",
    "    Learning\n",
    "    |\n",
    "    v\n",
    "\n",
    "    Repeat\n",
    "\n",
    "'''"
   ]
  },
  {
   "cell_type": "markdown",
   "metadata": {},
   "source": [
    "# Installing Libraries"
   ]
  },
  {
   "cell_type": "code",
   "execution_count": 68,
   "metadata": {},
   "outputs": [
    {
     "name": "stdout",
     "output_type": "stream",
     "text": [
      "Requirement already satisfied: matplotlib in c:\\users\\nadhi\\appdata\\local\\programs\\python\\python311\\lib\\site-packages (3.8.4)"
     ]
    },
    {
     "name": "stderr",
     "output_type": "stream",
     "text": [
      "DEPRECATION: Loading egg at c:\\users\\nadhi\\appdata\\local\\programs\\python\\python311\\lib\\site-packages\\object_detection-0.1-py3.11.egg is deprecated. pip 24.3 will enforce this behaviour change. A possible replacement is to use pip for package installation.. Discussion can be found at https://github.com/pypa/pip/issues/12330\n"
     ]
    },
    {
     "name": "stdout",
     "output_type": "stream",
     "text": [
      "\n",
      "Requirement already satisfied: contourpy>=1.0.1 in c:\\users\\nadhi\\appdata\\local\\programs\\python\\python311\\lib\\site-packages (from matplotlib) (1.2.1)\n",
      "Requirement already satisfied: cycler>=0.10 in c:\\users\\nadhi\\appdata\\local\\programs\\python\\python311\\lib\\site-packages (from matplotlib) (0.12.1)\n",
      "Requirement already satisfied: fonttools>=4.22.0 in c:\\users\\nadhi\\appdata\\local\\programs\\python\\python311\\lib\\site-packages (from matplotlib) (4.51.0)\n",
      "Requirement already satisfied: kiwisolver>=1.3.1 in c:\\users\\nadhi\\appdata\\local\\programs\\python\\python311\\lib\\site-packages (from matplotlib) (1.4.5)\n",
      "Requirement already satisfied: numpy>=1.21 in c:\\users\\nadhi\\appdata\\local\\programs\\python\\python311\\lib\\site-packages (from matplotlib) (1.26.4)\n",
      "Requirement already satisfied: packaging>=20.0 in c:\\users\\nadhi\\appdata\\local\\programs\\python\\python311\\lib\\site-packages (from matplotlib) (24.0)\n",
      "Requirement already satisfied: pillow>=8 in c:\\users\\nadhi\\appdata\\local\\programs\\python\\python311\\lib\\site-packages (from matplotlib) (10.3.0)\n",
      "Requirement already satisfied: pyparsing>=2.3.1 in c:\\users\\nadhi\\appdata\\local\\programs\\python\\python311\\lib\\site-packages (from matplotlib) (2.4.7)\n",
      "Requirement already satisfied: python-dateutil>=2.7 in c:\\users\\nadhi\\appdata\\local\\programs\\python\\python311\\lib\\site-packages (from matplotlib) (2.9.0.post0)\n",
      "Requirement already satisfied: six>=1.5 in c:\\users\\nadhi\\appdata\\local\\programs\\python\\python311\\lib\\site-packages (from python-dateutil>=2.7->matplotlib) (1.16.0)\n"
     ]
    }
   ],
   "source": [
    "!pip install matplotlib"
   ]
  },
  {
   "cell_type": "markdown",
   "metadata": {},
   "source": [
    "# Importing Libraries"
   ]
  },
  {
   "cell_type": "code",
   "execution_count": 69,
   "metadata": {},
   "outputs": [],
   "source": [
    "import math, random\n",
    "import matplotlib.pyplot as plt"
   ]
  },
  {
   "cell_type": "markdown",
   "metadata": {},
   "source": [
    "# Defining functions for Griewank Fn, Generating population etc.."
   ]
  },
  {
   "cell_type": "code",
   "execution_count": 70,
   "metadata": {},
   "outputs": [],
   "source": [
    "#Function to calculate the Griewank Function value for a given list\n",
    "def griewank(x):\n",
    "    \n",
    "    l= len(x)\n",
    "    sum_val = 0\n",
    "    cos_prod = 1\n",
    "    griewank_value = 0\n",
    "\n",
    "    for i in range(l):\n",
    "        sum_val += ((x[i]**2)/4000)\n",
    "        cos_prod *=  math.cos(x[i]/math.sqrt(i+1))\n",
    "    \n",
    "    griewank_value = 1 + sum_val - cos_prod\n",
    "\n",
    "    return griewank_value\n"
   ]
  },
  {
   "cell_type": "code",
   "execution_count": 71,
   "metadata": {},
   "outputs": [],
   "source": [
    "#Generates a random population set based on the learner and subject length\n",
    "def population_generator(learners, subjects, lower_bound, upper_bound):\n",
    "    \n",
    "    population = []\n",
    "\n",
    "    for i in range(learners):\n",
    "        learner = []\n",
    "        for i in range(subjects):\n",
    "            learner.append(round(random.uniform(lower_bound,upper_bound),4))\n",
    "        population.append(learner)\n",
    "    \n",
    "    return population\n"
   ]
  },
  {
   "cell_type": "code",
   "execution_count": 72,
   "metadata": {},
   "outputs": [],
   "source": [
    "#Calculates the mean value of each subject, given a population\n",
    "def mean_of_subjects(population):\n",
    "\n",
    "    mean_sub = []\n",
    "\n",
    "    for i in range(subjects):\n",
    "        mean = []\n",
    "        for j in range(learners):\n",
    "            mean.append(population[j][i])\n",
    "    \n",
    "        mean_sub.append(round(sum(mean)/len(mean),2))\n",
    "    \n",
    "    return mean_sub\n"
   ]
  },
  {
   "cell_type": "code",
   "execution_count": 73,
   "metadata": {},
   "outputs": [],
   "source": [
    "#Calculates the objective function values, given a population\n",
    "def obj_fn_val(population_data):\n",
    "\n",
    "    obj_val = []\n",
    "\n",
    "    for i in population_data:\n",
    "        obj_val.append(round(griewank(i),4))\n",
    "        \n",
    "    return obj_val\n"
   ]
  },
  {
   "cell_type": "code",
   "execution_count": 74,
   "metadata": {},
   "outputs": [],
   "source": [
    "#Generates random pairs for learners\n",
    "def generate_pair(learners):\n",
    "    \n",
    "    pairs = []\n",
    "\n",
    "    for i in range(learners):\n",
    "        pairs.append(random.choice([i+1 for i in range(learners)]))\n",
    "        \n",
    "    return pairs"
   ]
  },
  {
   "cell_type": "markdown",
   "metadata": {},
   "source": [
    "# Teaching Phase Function"
   ]
  },
  {
   "cell_type": "code",
   "execution_count": 75,
   "metadata": {},
   "outputs": [],
   "source": [
    "#Teaching Phase\n",
    "def teaching_phase(population, teacher_index):\n",
    "\n",
    "    teaching_factor = round(1+ random.random()*2 -1) #Teaching Factor\n",
    "\n",
    "    mean_subjects = mean_of_subjects(population) #Finding mean value for each subject\n",
    "\n",
    "    random_num_teacher = [round(random.uniform(0,1),2) for i in range(subjects)] #Generating a random number for each subject\n",
    "\n",
    "    diff_mean = []\n",
    "\n",
    "    for i in range(subjects):\n",
    "        diff = random_num_teacher[i]*(population[teacher_index][i] - (teaching_factor*mean_subjects[i])) # Finding Difference_mean\n",
    "        diff_mean.append(round(diff,4))\n",
    "\n",
    "    updated_population = population_generator(learners,subjects,lower_bound,upper_bound)\n",
    "\n",
    "\n",
    "    #Updating the population by adding Diff_mean values\n",
    "    for i in range(subjects):\n",
    "        for j in range(learners):\n",
    "            updated_population[j][i]= population[j][i] + diff_mean[i]\n",
    "            updated_population[j][i] =  round(updated_population[j][i],4) \n",
    "    \n",
    "\n",
    "    #Finding the objective function values after updating population\n",
    "    obj_fn_updated = obj_fn_val(updated_population)\n",
    "\n",
    "    return updated_population, obj_fn_updated\n"
   ]
  },
  {
   "cell_type": "markdown",
   "metadata": {},
   "source": [
    "# Learning Phase Function"
   ]
  },
  {
   "cell_type": "code",
   "execution_count": 76,
   "metadata": {},
   "outputs": [],
   "source": [
    "#Learning Phase\n",
    "def learning_phase(updated_population, obj_fn_updated):\n",
    "\n",
    "    learner_updated_population = population_generator(learners,subjects,lower_bound,upper_bound) # type: ignore\n",
    "\n",
    "    pair = generate_pair(learners) # type: ignore #Generating a learners pair for each learner\n",
    "    random_num_learner = [round(random.uniform(0,1),2) for i in range(subjects)] #Generating a random number for each subject\n",
    "\n",
    "\n",
    "    #Updating the population based on learner-learner interaction\n",
    "    for i in range(learners):\n",
    "        for j in range(subjects):\n",
    "            learner_updated_population[i][j] = updated_population[i][j] + (random_num_learner[j]*(updated_population[pair[i]-1][j] - updated_population[i][j]))\n",
    "            learner_updated_population[i][j] =  round(learner_updated_population[i][j],4)\n",
    "\n",
    "\n",
    "\n",
    "    #Finding the objective function values after updating population\n",
    "    obj_fn_learner = obj_fn_val(learner_updated_population)\n",
    "\n",
    "\n",
    "    #Finding the index of the learner with the biggest reduce in objective function after updating the population\n",
    "    new_teacher = int()\n",
    "    ruff = []\n",
    "    for i in range(len(objective_fn_values)):\n",
    "        ruff.append(obj_fn_learner[i]-obj_fn_updated[i])\n",
    "    new_teacher = ruff.index(min(ruff))\n",
    "\n",
    "    return learner_updated_population, new_teacher, obj_fn_learner\n",
    "    \n"
   ]
  },
  {
   "cell_type": "markdown",
   "metadata": {},
   "source": [
    "# Application of Teaching and Learning Phases"
   ]
  },
  {
   "cell_type": "code",
   "execution_count": 77,
   "metadata": {},
   "outputs": [
    {
     "name": "stdout",
     "output_type": "stream",
     "text": [
      "Original Population: \n",
      "[27.4167, -561.6867, -169.2449, -46.6822, -571.8501]\n",
      "[2.1985, -326.5267, -186.653, 31.4698, -160.807]\n",
      "[124.763, 138.0889, -261.139, -446.6792, -432.6944]\n",
      "[-200.1681, -440.2325, -577.2438, -289.9212, -390.3361]\n",
      "[75.2625, -164.412, -453.1993, 139.0031, -67.5311]\n",
      "[-47.5836, -255.2957, -498.2305, -554.2684, 35.0778]\n",
      "\n",
      "Original Objective function values:\n",
      "[169.5103, 43.0725, 123.224, 201.9817, 66.2939, 157.0459]\n",
      "\n",
      "\n",
      "Updated Population after 10000 iterations: \n",
      "[0.0, 0.0, 0.0, 0.0, 0.0]\n",
      "[0.0, 0.0, 0.0, 0.0, 0.0]\n",
      "[0.0, 0.0, 0.0, 0.0, 0.0]\n",
      "[0.0, 0.0, 0.0, 0.0, 0.0]\n",
      "[0.0, 0.0, 0.0, 0.0, 0.0]\n",
      "[0.0, 0.0, 0.0, 0.0, 0.0]\n",
      "\n",
      "Updated Objective function values after 10000 iterations: \n",
      "[0.0, 0.0, 0.0, 0.0, 0.0, 0.0]\n"
     ]
    }
   ],
   "source": [
    "learners = 6 \n",
    "subjects = 5\n",
    "lower_bound = -600\n",
    "upper_bound = 200\n",
    "\n",
    "iterations = 10000      \n",
    "\n",
    "population = population_generator(learners,subjects, lower_bound, upper_bound) #Generating the population\n",
    "\n",
    "objective_fn_values = obj_fn_val(population) #Finding objective function values for the population\n",
    "\n",
    "teacher = min(objective_fn_values)\n",
    "teacher_index = objective_fn_values.index(teacher) #Finding the index of the objective function result with least value\n",
    "\n",
    "\n",
    "#Printing the original population and objective function values\n",
    "print('Original Population: ')\n",
    "for i in population:\n",
    "    print(i)\n",
    "\n",
    "print()\n",
    "\n",
    "print('Original Objective function values:')\n",
    "print(objective_fn_values)\n",
    "\n",
    "print()\n",
    "print()\n",
    "o_values_min = []\n",
    "o_values_max \n",
    "\n",
    "for i in range(iterations):\n",
    "\n",
    "    updated_population, updated_objective_fn = teaching_phase(population,teacher_index)\n",
    "    learner_updated_population, new_teacher, learner_updated_obj_fn = learning_phase(updated_population, updated_objective_fn)\n",
    "\n",
    "    population, teacher_index = learner_updated_population, new_teacher \n",
    "\n",
    "    o_values_min.append(min(learner_updated_obj_fn)) #Finding the minimum value of the updated objective function for each iteration\n",
    "    o_values_max.append(max(learner_updated_obj_fn)) #Finding the minimum value of the updated objective function for each iteration\n",
    "\n",
    "\n",
    "#Printing the Updated population and objective function values\n",
    "print(f'Updated Population after {iterations} iterations: ')\n",
    "for i in population:\n",
    "    print(i)\n",
    "\n",
    "print()\n",
    "\n",
    "print(f'Updated Objective function values after {iterations} iterations: ')\n",
    "print(learner_updated_obj_fn)\n",
    "\n"
   ]
  },
  {
   "cell_type": "markdown",
   "metadata": {},
   "source": [
    "# Plotting graph - Obj Fn VS No. of Iterations"
   ]
  },
  {
   "cell_type": "code",
   "execution_count": 79,
   "metadata": {},
   "outputs": [
    {
     "data": {
      "text/plain": [
       "Text(0.5, 1.0, 'Obj fn Values Vs. No. of Iterations')"
      ]
     },
     "execution_count": 79,
     "metadata": {},
     "output_type": "execute_result"
    },
    {
     "data": {
      "image/png": "[encoded data removed]",
      "text/plain": [
       "<Figure size 640x480 with 1 Axes>"
      ]
     },
     "metadata": {},
     "output_type": "display_data"
    }
   ],
   "source": [
    "x = [i for i in range(iterations)]\n",
    "\n",
    "\n",
    "#Generating a graph to find the difference between the obj fn values per each iteration\n",
    "plt.plot(x,o_values)\n",
    "plt.xlabel('Iterations')\n",
    "plt.ylabel('Minimum Obj Fn Value')\n",
    "\n",
    "plt.title('Obj fn Values Vs. No. of Iterations')\n"
   ]
  }
 ],
 "metadata": {
  "kernelspec": {
   "display_name": "Python 3.10.5 64-bit",
   "language": "python",
   "name": "python3"
  },
  "language_info": {
   "codemirror_mode": {
    "name": "ipython",
    "version": 3
   },
   "file_extension": ".py",
   "mimetype": "text/x-python",
   "name": "python",
   "nbconvert_exporter": "python",
   "pygments_lexer": "ipython3",
   "version": "3.11.4"
  },
  "orig_nbformat": 4,
  "vscode": {
   "interpreter": {
    "hash": "26de051ba29f2982a8de78e945f0abaf191376122a1563185a90213a26c5da77"
   }
  }
 },
 "nbformat": 4,
 "nbformat_minor": 2
}
